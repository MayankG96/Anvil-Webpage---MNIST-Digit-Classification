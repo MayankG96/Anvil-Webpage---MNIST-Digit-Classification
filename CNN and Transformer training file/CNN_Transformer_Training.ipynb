{
  "nbformat": 4,
  "nbformat_minor": 0,
  "metadata": {
    "colab": {
      "provenance": [],
      "gpuType": "T4"
    },
    "kernelspec": {
      "name": "python3",
      "display_name": "Python 3"
    },
    "language_info": {
      "name": "python"
    },
    "accelerator": "GPU"
  },
  "cells": [
    {
      "cell_type": "markdown",
      "source": [
        "## CNN with 99% accuracy"
      ],
      "metadata": {
        "id": "PVwh-yPi25SS"
      }
    },
    {
      "cell_type": "code",
      "source": [
        "import tensorflow as tf\n",
        "from tensorflow.keras.datasets import mnist\n",
        "from tensorflow.keras.models import Sequential\n",
        "from tensorflow.keras.layers import Conv2D, MaxPooling2D, Flatten, Dense, Dropout\n",
        "from tensorflow.keras.models import load_model, save_model\n",
        "import numpy as np\n",
        "import matplotlib.pyplot as plt\n",
        "import pickle"
      ],
      "metadata": {
        "id": "DMKoba24mqT1"
      },
      "execution_count": null,
      "outputs": []
    },
    {
      "cell_type": "code",
      "source": [
        "(x_train,y_train), (x_test,y_test) = mnist.load_data()\n",
        "x_train, x_test = x_train/255, x_test/255"
      ],
      "metadata": {
        "id": "0GapD39D2wjR",
        "colab": {
          "base_uri": "https://localhost:8080/"
        },
        "outputId": "c6b1471a-2d02-4407-cfa8-17d6037db90d"
      },
      "execution_count": null,
      "outputs": [
        {
          "output_type": "stream",
          "name": "stdout",
          "text": [
            "Downloading data from https://storage.googleapis.com/tensorflow/tf-keras-datasets/mnist.npz\n",
            "11490434/11490434 [==============================] - 0s 0us/step\n"
          ]
        }
      ]
    },
    {
      "cell_type": "code",
      "source": [
        "ndata_train = x_train.shape[0]\n",
        "ndata_test = x_test.shape[0]"
      ],
      "metadata": {
        "id": "AEvesqTN6w8G"
      },
      "execution_count": null,
      "outputs": []
    },
    {
      "cell_type": "code",
      "source": [
        "x_train = x_train.reshape((ndata_train,28,28,1))\n",
        "x_test = x_test.reshape((ndata_test,28,28,1))\n",
        "\n",
        "xshape = x_train.shape[1:4]\n",
        "xshape"
      ],
      "metadata": {
        "colab": {
          "base_uri": "https://localhost:8080/"
        },
        "id": "mNxXmv8y66Ke",
        "outputId": "fe2d9bf1-2d18-49c2-b100-e5333d13107a"
      },
      "execution_count": null,
      "outputs": [
        {
          "output_type": "execute_result",
          "data": {
            "text/plain": [
              "(28, 28, 1)"
            ]
          },
          "metadata": {},
          "execution_count": 4
        }
      ]
    },
    {
      "cell_type": "code",
      "source": [
        "# CNN model\n",
        "\n",
        "cnn_model = Sequential()\n",
        "cnn_model.add(Conv2D(32, kernel_size=(3, 3), activation='relu', input_shape=xshape))\n",
        "cnn_model.add(MaxPooling2D(pool_size=(2, 2)))\n",
        "cnn_model.add(Dropout(0.25))  # Dropout layer to prevent overfitting\n",
        "cnn_model.add(Conv2D(64, kernel_size=(3, 3), activation='relu'))\n",
        "cnn_model.add(MaxPooling2D(pool_size=(2, 2)))\n",
        "cnn_model.add(Dropout(0.25))  # Another dropout layer\n",
        "cnn_model.add(Flatten())\n",
        "cnn_model.add(Dense(128, activation='relu'))\n",
        "cnn_model.add(Dropout(0.5))  # Dropout layer before the output layer\n",
        "cnn_model.add(Dense(10, activation='softmax'))"
      ],
      "metadata": {
        "id": "dTiSpVgh8C4y"
      },
      "execution_count": null,
      "outputs": []
    },
    {
      "cell_type": "code",
      "source": [
        "cnn_model.compile(loss = 'sparse_categorical_crossentropy',optimizer = 'adam', metrics = ['accuracy'])"
      ],
      "metadata": {
        "id": "8QWlhsRY8T4W"
      },
      "execution_count": null,
      "outputs": []
    },
    {
      "cell_type": "code",
      "source": [
        "cnn_model.summary()"
      ],
      "metadata": {
        "colab": {
          "base_uri": "https://localhost:8080/"
        },
        "id": "NvmZ5s2e8p3O",
        "outputId": "6e8adca1-e183-4691-b6ce-fa93eafd2579"
      },
      "execution_count": null,
      "outputs": [
        {
          "output_type": "stream",
          "name": "stdout",
          "text": [
            "Model: \"sequential\"\n",
            "_________________________________________________________________\n",
            " Layer (type)                Output Shape              Param #   \n",
            "=================================================================\n",
            " conv2d (Conv2D)             (None, 26, 26, 32)        320       \n",
            "                                                                 \n",
            " max_pooling2d (MaxPooling2  (None, 13, 13, 32)        0         \n",
            " D)                                                              \n",
            "                                                                 \n",
            " dropout (Dropout)           (None, 13, 13, 32)        0         \n",
            "                                                                 \n",
            " conv2d_1 (Conv2D)           (None, 11, 11, 64)        18496     \n",
            "                                                                 \n",
            " max_pooling2d_1 (MaxPoolin  (None, 5, 5, 64)          0         \n",
            " g2D)                                                            \n",
            "                                                                 \n",
            " dropout_1 (Dropout)         (None, 5, 5, 64)          0         \n",
            "                                                                 \n",
            " flatten (Flatten)           (None, 1600)              0         \n",
            "                                                                 \n",
            " dense (Dense)               (None, 128)               204928    \n",
            "                                                                 \n",
            " dropout_2 (Dropout)         (None, 128)               0         \n",
            "                                                                 \n",
            " dense_1 (Dense)             (None, 10)                1290      \n",
            "                                                                 \n",
            "=================================================================\n",
            "Total params: 225034 (879.04 KB)\n",
            "Trainable params: 225034 (879.04 KB)\n",
            "Non-trainable params: 0 (0.00 Byte)\n",
            "_________________________________________________________________\n"
          ]
        }
      ]
    },
    {
      "cell_type": "markdown",
      "source": [
        "## Training the model on 80% of the training data"
      ],
      "metadata": {
        "id": "pw4yzuT4EbLR"
      }
    },
    {
      "cell_type": "code",
      "source": [
        "history = cnn_model.fit(x_train, y_train, batch_size=128, epochs=20, validation_split=0.2)"
      ],
      "metadata": {
        "colab": {
          "base_uri": "https://localhost:8080/"
        },
        "id": "xCYCxnKE8uMj",
        "outputId": "4bf1ef98-4438-4540-92f2-42144c7744c5"
      },
      "execution_count": null,
      "outputs": [
        {
          "output_type": "stream",
          "name": "stdout",
          "text": [
            "Epoch 1/20\n",
            "375/375 [==============================] - 12s 9ms/step - loss: 0.4230 - accuracy: 0.8667 - val_loss: 0.0897 - val_accuracy: 0.9726\n",
            "Epoch 2/20\n",
            "375/375 [==============================] - 2s 5ms/step - loss: 0.1357 - accuracy: 0.9587 - val_loss: 0.0607 - val_accuracy: 0.9822\n",
            "Epoch 3/20\n",
            "375/375 [==============================] - 2s 6ms/step - loss: 0.1029 - accuracy: 0.9688 - val_loss: 0.0482 - val_accuracy: 0.9868\n",
            "Epoch 4/20\n",
            "375/375 [==============================] - 2s 5ms/step - loss: 0.0853 - accuracy: 0.9746 - val_loss: 0.0434 - val_accuracy: 0.9869\n",
            "Epoch 5/20\n",
            "375/375 [==============================] - 2s 5ms/step - loss: 0.0752 - accuracy: 0.9771 - val_loss: 0.0403 - val_accuracy: 0.9885\n",
            "Epoch 6/20\n",
            "375/375 [==============================] - 2s 5ms/step - loss: 0.0670 - accuracy: 0.9796 - val_loss: 0.0397 - val_accuracy: 0.9888\n",
            "Epoch 7/20\n",
            "375/375 [==============================] - 2s 6ms/step - loss: 0.0619 - accuracy: 0.9812 - val_loss: 0.0381 - val_accuracy: 0.9892\n",
            "Epoch 8/20\n",
            "375/375 [==============================] - 2s 5ms/step - loss: 0.0551 - accuracy: 0.9823 - val_loss: 0.0360 - val_accuracy: 0.9894\n",
            "Epoch 9/20\n",
            "375/375 [==============================] - 2s 5ms/step - loss: 0.0519 - accuracy: 0.9841 - val_loss: 0.0349 - val_accuracy: 0.9907\n",
            "Epoch 10/20\n",
            "375/375 [==============================] - 2s 5ms/step - loss: 0.0481 - accuracy: 0.9854 - val_loss: 0.0370 - val_accuracy: 0.9900\n",
            "Epoch 11/20\n",
            "375/375 [==============================] - 2s 5ms/step - loss: 0.0438 - accuracy: 0.9859 - val_loss: 0.0335 - val_accuracy: 0.9907\n",
            "Epoch 12/20\n",
            "375/375 [==============================] - 2s 5ms/step - loss: 0.0445 - accuracy: 0.9859 - val_loss: 0.0337 - val_accuracy: 0.9905\n",
            "Epoch 13/20\n",
            "375/375 [==============================] - 2s 6ms/step - loss: 0.0392 - accuracy: 0.9877 - val_loss: 0.0328 - val_accuracy: 0.9914\n",
            "Epoch 14/20\n",
            "375/375 [==============================] - 2s 5ms/step - loss: 0.0408 - accuracy: 0.9871 - val_loss: 0.0342 - val_accuracy: 0.9912\n",
            "Epoch 15/20\n",
            "375/375 [==============================] - 2s 5ms/step - loss: 0.0368 - accuracy: 0.9881 - val_loss: 0.0332 - val_accuracy: 0.9923\n",
            "Epoch 16/20\n",
            "375/375 [==============================] - 2s 5ms/step - loss: 0.0346 - accuracy: 0.9888 - val_loss: 0.0302 - val_accuracy: 0.9920\n",
            "Epoch 17/20\n",
            "375/375 [==============================] - 2s 5ms/step - loss: 0.0324 - accuracy: 0.9893 - val_loss: 0.0283 - val_accuracy: 0.9928\n",
            "Epoch 18/20\n",
            "375/375 [==============================] - 2s 5ms/step - loss: 0.0327 - accuracy: 0.9894 - val_loss: 0.0313 - val_accuracy: 0.9919\n",
            "Epoch 19/20\n",
            "375/375 [==============================] - 2s 6ms/step - loss: 0.0312 - accuracy: 0.9897 - val_loss: 0.0284 - val_accuracy: 0.9926\n",
            "Epoch 20/20\n",
            "375/375 [==============================] - 2s 5ms/step - loss: 0.0288 - accuracy: 0.9905 - val_loss: 0.0304 - val_accuracy: 0.9928\n"
          ]
        }
      ]
    },
    {
      "cell_type": "code",
      "source": [
        "print('This model predicts '+str(cnn_model.evaluate(x_test,y_test)[1]*100) +'% of the test data correctly')"
      ],
      "metadata": {
        "colab": {
          "base_uri": "https://localhost:8080/"
        },
        "id": "HH6kgl5S9HXR",
        "outputId": "dad2381a-2245-4b73-90b0-9ff057360f49"
      },
      "execution_count": null,
      "outputs": [
        {
          "output_type": "stream",
          "name": "stdout",
          "text": [
            "313/313 [==============================] - 1s 3ms/step - loss: 0.0220 - accuracy: 0.9933\n",
            "This model predicts 99.33000206947327% of the test data correctly\n"
          ]
        }
      ]
    },
    {
      "cell_type": "code",
      "source": [
        "# Plotting training and validation accuracy\n",
        "plt.figure(figsize=(12, 4))\n",
        "plt.subplot(1, 2, 1)\n",
        "plt.plot(history.history['accuracy'], label='Training Accuracy')\n",
        "plt.plot(history.history['val_accuracy'], label='Validation Accuracy')\n",
        "plt.title('Training and Validation Accuracy')\n",
        "plt.xlabel('No: of Epochs')\n",
        "plt.ylabel('Accuracy')\n",
        "plt.legend()\n",
        "\n",
        "# Plotting training and validation loss\n",
        "plt.subplot(1, 2, 2)\n",
        "plt.plot(history.history['loss'], label='Training Loss')\n",
        "plt.plot(history.history['val_loss'], label='Validation Loss')\n",
        "plt.title('Training and Validation Loss')\n",
        "plt.xlabel('No: of Epochs')\n",
        "plt.ylabel('Loss')\n",
        "plt.legend()\n",
        "\n",
        "plt.show()\n"
      ],
      "metadata": {
        "id": "uI-kN73SaHIN",
        "colab": {
          "base_uri": "https://localhost:8080/",
          "height": 410
        },
        "outputId": "0ba4d06e-4963-4659-dd90-81f579fde79e"
      },
      "execution_count": null,
      "outputs": [
        {
          "output_type": "display_data",
          "data": {
            "text/plain": [
              "<Figure size 1200x400 with 2 Axes>"
            ],
            "image/png": "[encoded data removed]"
          },
          "metadata": {}
        }
      ]
    },
    {
      "cell_type": "markdown",
      "source": [
        "## Retraining model on complete train dataset based on the parameters tuned before"
      ],
      "metadata": {
        "id": "-iMPanrQEpju"
      }
    },
    {
      "cell_type": "code",
      "source": [
        "cnn_model.fit(x_train,y_train,epochs=20,validation_split=0,batch_size=128)"
      ],
      "metadata": {
        "colab": {
          "base_uri": "https://localhost:8080/"
        },
        "id": "0Ifn9YNyEun4",
        "outputId": "49fe1260-95da-423f-c58a-d16e630f61e5"
      },
      "execution_count": null,
      "outputs": [
        {
          "output_type": "stream",
          "name": "stdout",
          "text": [
            "Epoch 1/20\n",
            "469/469 [==============================] - 3s 5ms/step - loss: 0.0383 - accuracy: 0.9884\n",
            "Epoch 2/20\n",
            "469/469 [==============================] - 2s 5ms/step - loss: 0.0324 - accuracy: 0.9897\n",
            "Epoch 3/20\n",
            "469/469 [==============================] - 4s 8ms/step - loss: 0.0300 - accuracy: 0.9910\n",
            "Epoch 4/20\n",
            "469/469 [==============================] - 2s 5ms/step - loss: 0.0305 - accuracy: 0.9905\n",
            "Epoch 5/20\n",
            "469/469 [==============================] - 2s 5ms/step - loss: 0.0276 - accuracy: 0.9918\n",
            "Epoch 6/20\n",
            "469/469 [==============================] - 2s 5ms/step - loss: 0.0289 - accuracy: 0.9909\n",
            "Epoch 7/20\n",
            "469/469 [==============================] - 2s 5ms/step - loss: 0.0258 - accuracy: 0.9916\n",
            "Epoch 8/20\n",
            "469/469 [==============================] - 3s 5ms/step - loss: 0.0269 - accuracy: 0.9915\n",
            "Epoch 9/20\n",
            "469/469 [==============================] - 2s 5ms/step - loss: 0.0248 - accuracy: 0.9919\n",
            "Epoch 10/20\n",
            "469/469 [==============================] - 2s 5ms/step - loss: 0.0234 - accuracy: 0.9923\n",
            "Epoch 11/20\n",
            "469/469 [==============================] - 2s 5ms/step - loss: 0.0239 - accuracy: 0.9923\n",
            "Epoch 12/20\n",
            "469/469 [==============================] - 2s 5ms/step - loss: 0.0215 - accuracy: 0.9930\n",
            "Epoch 13/20\n",
            "469/469 [==============================] - 3s 5ms/step - loss: 0.0222 - accuracy: 0.9929\n",
            "Epoch 14/20\n",
            "469/469 [==============================] - 2s 5ms/step - loss: 0.0226 - accuracy: 0.9925\n",
            "Epoch 15/20\n",
            "469/469 [==============================] - 2s 5ms/step - loss: 0.0203 - accuracy: 0.9934\n",
            "Epoch 16/20\n",
            "469/469 [==============================] - 2s 5ms/step - loss: 0.0200 - accuracy: 0.9933\n",
            "Epoch 17/20\n",
            "469/469 [==============================] - 2s 5ms/step - loss: 0.0209 - accuracy: 0.9933\n",
            "Epoch 18/20\n",
            "469/469 [==============================] - 2s 5ms/step - loss: 0.0202 - accuracy: 0.9934\n",
            "Epoch 19/20\n",
            "469/469 [==============================] - 2s 5ms/step - loss: 0.0199 - accuracy: 0.9931\n",
            "Epoch 20/20\n",
            "469/469 [==============================] - 2s 5ms/step - loss: 0.0200 - accuracy: 0.9931\n"
          ]
        },
        {
          "output_type": "execute_result",
          "data": {
            "text/plain": [
              "<keras.src.callbacks.History at 0x7cc2dbaae050>"
            ]
          },
          "metadata": {},
          "execution_count": 11
        }
      ]
    },
    {
      "cell_type": "code",
      "source": [
        "print('This model predicts '+str(cnn_model.evaluate(x_test,y_test)[1]*100) +'% of the test data correctly')"
      ],
      "metadata": {
        "colab": {
          "base_uri": "https://localhost:8080/"
        },
        "id": "gLlx173FEx9N",
        "outputId": "e05807c6-a6b5-4bb2-8a81-709920c36a20"
      },
      "execution_count": null,
      "outputs": [
        {
          "output_type": "stream",
          "name": "stdout",
          "text": [
            "313/313 [==============================] - 1s 2ms/step - loss: 0.0222 - accuracy: 0.9928\n",
            "This model predicts 99.27999973297119% of the test data correctly\n"
          ]
        }
      ]
    },
    {
      "cell_type": "code",
      "source": [
        "#saving the model\n",
        "cnn_model.save('cnn_model.h5')"
      ],
      "metadata": {
        "colab": {
          "base_uri": "https://localhost:8080/"
        },
        "id": "ddCSkjGGE5cp",
        "outputId": "ba6d69bb-98d1-401b-e4a0-6332cc3e8275"
      },
      "execution_count": null,
      "outputs": [
        {
          "output_type": "stream",
          "name": "stderr",
          "text": [
            "/usr/local/lib/python3.10/dist-packages/keras/src/engine/training.py:3103: UserWarning: You are saving your model as an HDF5 file via `model.save()`. This file format is considered legacy. We recommend using instead the native Keras format, e.g. `model.save('my_model.keras')`.\n",
            "  saving_api.save_model(\n"
          ]
        }
      ]
    },
    {
      "cell_type": "code",
      "source": [
        "#Reusing the stored model to predict\n",
        "cnn_model = load_model('cnn_model.h5')\n",
        "\n",
        "print('This model predicts '+str(cnn_model.evaluate(x_test,y_test)[1]*100) +'% of the test data correctly')"
      ],
      "metadata": {
        "colab": {
          "base_uri": "https://localhost:8080/"
        },
        "id": "ntoQXFUsE6JJ",
        "outputId": "62391bf8-9b01-42e0-c784-ae99283fb360"
      },
      "execution_count": null,
      "outputs": [
        {
          "output_type": "stream",
          "name": "stdout",
          "text": [
            "313/313 [==============================] - 1s 3ms/step - loss: 0.0222 - accuracy: 0.9928\n",
            "This model predicts 99.27999973297119% of the test data correctly\n"
          ]
        }
      ]
    },
    {
      "cell_type": "code",
      "source": [
        "# Misclassification\n",
        "predict = cnn_model.predict(x_test)\n",
        "pred_class = np.argmax(predict,axis=1)\n",
        "misclassified_sample = np.where(pred_class != y_test)[0]\n",
        "print(\"No: of misclassified samples is: \",len(misclassified_sample))"
      ],
      "metadata": {
        "colab": {
          "base_uri": "https://localhost:8080/"
        },
        "id": "wsjCiyVbFAoB",
        "outputId": "16f57d93-a96f-4931-fddc-e4369c5b532a"
      },
      "execution_count": null,
      "outputs": [
        {
          "output_type": "stream",
          "name": "stdout",
          "text": [
            "313/313 [==============================] - 1s 2ms/step\n",
            "No: of misclassified samples is:  72\n"
          ]
        }
      ]
    },
    {
      "cell_type": "code",
      "source": [
        "# plotting some misclassified samples\n",
        "plt.figure(figsize=(10, 5))\n",
        "for i, idx in enumerate(misclassified_sample[:10]):\n",
        "    plt.subplot(2, 5, i + 1)\n",
        "    plt.imshow(x_test[idx].reshape(28, 28), cmap='gray')\n",
        "    pred_label = np.argmax(predict[idx])\n",
        "    true_label = y_test[idx]\n",
        "    plt.title(f\"Predicted: {pred_label}\\nTrue: {true_label}\", fontsize=10, pad=5)\n",
        "    plt.axis('off')\n",
        "plt.tight_layout()\n",
        "plt.show()"
      ],
      "metadata": {
        "colab": {
          "base_uri": "https://localhost:8080/",
          "height": 485
        },
        "id": "Etx2Mxd_FDDl",
        "outputId": "d7406f29-4c45-4fdd-cd19-4a7a140021a2"
      },
      "execution_count": null,
      "outputs": [
        {
          "output_type": "display_data",
          "data": {
            "text/plain": [
              "<Figure size 1000x500 with 10 Axes>"
            ],
            "image/png": "[encoded data removed]"
          },
          "metadata": {}
        }
      ]
    },
    {
      "cell_type": "markdown",
      "source": [
        "## Transformer"
      ],
      "metadata": {
        "id": "Tm7tRTVhAGyj"
      }
    },
    {
      "cell_type": "code",
      "source": [
        "import numpy as np\n",
        "import tensorflow as tf\n",
        "import pickle"
      ],
      "metadata": {
        "id": "mSK3MrtcMQca"
      },
      "execution_count": null,
      "outputs": []
    },
    {
      "cell_type": "code",
      "source": [
        "# this is written as a tensorflow \"layer\".  it's just a vector the same size as the\n",
        "# output of the previous layer. the vector is initialized randomly, but we'll use\n",
        "# gradient descent to update the values in the vector\n",
        "#\n",
        "# it's purpose is to be appended to the beginning of the sequence of vectors fed into\n",
        "# the transformer.  then after the transformer runs on the whole data, we just grab\n",
        "# the resulting zero-th vector...the class token...and use that as the portfolio weights\n",
        "class ClassToken(tf.keras.layers.Layer):\n",
        "    def __init__(self,**kwargs):\n",
        "        super().__init__()\n",
        "\n",
        "    def build(self, input_shape):\n",
        "        w_init = tf.random_normal_initializer()\n",
        "        self.w = tf.Variable(\n",
        "            initial_value = w_init(shape=(1, 1, input_shape[-1]), dtype=tf.float32),\n",
        "            trainable = True\n",
        "        )\n",
        "\n",
        "    def call(self, inputs):\n",
        "        batch_size = tf.shape(inputs)[0]\n",
        "        hidden_dim = self.w.shape[-1]\n",
        "\n",
        "        cls = tf.broadcast_to(self.w, [batch_size, 1, hidden_dim])\n",
        "        cls = tf.cast(cls, dtype=inputs.dtype)\n",
        "        return cls"
      ],
      "metadata": {
        "id": "RSlQPwD_IMul"
      },
      "execution_count": null,
      "outputs": []
    },
    {
      "cell_type": "code",
      "source": [
        "def build_ViT(n,m,block_size,hidden_dim,num_layers,num_heads,key_dim,mlp_dim,dropout_rate,num_classes):\n",
        "    # n is number of rows of blocks\n",
        "    # m is number of cols of blocks\n",
        "    # block_size is number of pixels (with rgb) in each block\n",
        "\n",
        "    inp = tf.keras.layers.Input(shape=(n*m,block_size))\n",
        "    inp2 = tf.keras.layers.Input(shape=(n*m))\n",
        "    mid = tf.keras.layers.Dense(hidden_dim)(inp) # transform to vectors with different dimension\n",
        "    # the positional embeddings\n",
        "#     positions = tf.range(start=0, limit=n*m, delta=1)\n",
        "    emb = tf.keras.layers.Embedding(input_dim=n*m, output_dim=hidden_dim)(inp2) # learned positional embedding for each of the n*m possible possitions\n",
        "    mid = mid + emb # for some reason, tf.keras.layers.Add causes an error, but + doesn't?\n",
        "    # create and append class token to beginning of all input vectors\n",
        "    token = ClassToken()(mid) # append class token to beginning of sequence\n",
        "    mid = tf.keras.layers.Concatenate(axis=1)([token, mid])\n",
        "\n",
        "    for l in range(num_layers): # how many Transformer Head layers are there?\n",
        "        ln  = tf.keras.layers.LayerNormalization()(mid) # normalize\n",
        "        mha = tf.keras.layers.MultiHeadAttention(num_heads=num_heads,key_dim=key_dim,value_dim=key_dim)(ln,ln,ln) # self attention!\n",
        "        add = tf.keras.layers.Add()([mid,mha]) # add and norm\n",
        "        ln  = tf.keras.layers.LayerNormalization()(add)\n",
        "        den = tf.keras.layers.Dense(mlp_dim,activation='relu')(ln) # maybe should be relu...who knows...\n",
        "        den = tf.keras.layers.Dropout(dropout_rate)(den) # regularization\n",
        "        den = tf.keras.layers.Dense(hidden_dim)(den) # back to the right dimensional space\n",
        "        den = tf.keras.layers.Dropout(dropout_rate)(den)\n",
        "        mid = tf.keras.layers.Add()([den,add]) # add and norm again\n",
        "    ln = tf.keras.layers.LayerNormalization()(mid)\n",
        "    fl = ln[:,0,:] # just grab the class token for each image in batch\n",
        "    clas = tf.keras.layers.Dense(num_classes,activation='softmax')(fl) # probability that the image is in each category\n",
        "    mod = tf.keras.models.Model([inp,inp2],clas)\n",
        "    mod.compile(optimizer='adam',loss='sparse_categorical_crossentropy',metrics=['accuracy'])\n",
        "    return mod"
      ],
      "metadata": {
        "id": "FEIW_CcfNGBy"
      },
      "execution_count": null,
      "outputs": []
    },
    {
      "cell_type": "code",
      "source": [
        "#Initializing vision transformer\n",
        "n = 4\n",
        "m = 4\n",
        "block_size = 49\n",
        "hidden_dim = 100\n",
        "num_layers = 8\n",
        "num_heads = 8\n",
        "key_dim = hidden_dim//num_heads # usually good practice for key_dim to be hidden_dim//num_heads...this is why we do Multi-Head attention\n",
        "mlp_dim = hidden_dim\n",
        "dropout_rate = 0.07\n",
        "num_classes = 10\n",
        "\n",
        "\n",
        "\n",
        "trans = build_ViT(n,m,block_size,hidden_dim,num_layers,num_heads,key_dim,mlp_dim,dropout_rate,num_classes)\n",
        "trans.summary()"
      ],
      "metadata": {
        "colab": {
          "base_uri": "https://localhost:8080/"
        },
        "id": "Q-JBcJXqNUfV",
        "outputId": "badf1e40-0912-4e7f-b123-06fe8c2bf685"
      },
      "execution_count": null,
      "outputs": [
        {
          "output_type": "stream",
          "name": "stdout",
          "text": [
            "Model: \"model\"\n",
            "__________________________________________________________________________________________________\n",
            " Layer (type)                Output Shape                 Param #   Connected to                  \n",
            "==================================================================================================\n",
            " input_1 (InputLayer)        [(None, 16, 49)]             0         []                            \n",
            "                                                                                                  \n",
            " input_2 (InputLayer)        [(None, 16)]                 0         []                            \n",
            "                                                                                                  \n",
            " dense_2 (Dense)             (None, 16, 100)              5000      ['input_1[0][0]']             \n",
            "                                                                                                  \n",
            " embedding (Embedding)       (None, 16, 100)              1600      ['input_2[0][0]']             \n",
            "                                                                                                  \n",
            " tf.__operators__.add (TFOp  (None, 16, 100)              0         ['dense_2[0][0]',             \n",
            " Lambda)                                                             'embedding[0][0]']           \n",
            "                                                                                                  \n",
            " class_token (ClassToken)    (None, 1, 100)               100       ['tf.__operators__.add[0][0]']\n",
            "                                                                                                  \n",
            " concatenate (Concatenate)   (None, 17, 100)              0         ['class_token[0][0]',         \n",
            "                                                                     'tf.__operators__.add[0][0]']\n",
            "                                                                                                  \n",
            " layer_normalization (Layer  (None, 17, 100)              200       ['concatenate[0][0]']         \n",
            " Normalization)                                                                                   \n",
            "                                                                                                  \n",
            " multi_head_attention (Mult  (None, 17, 100)              38788     ['layer_normalization[0][0]', \n",
            " iHeadAttention)                                                     'layer_normalization[0][0]', \n",
            "                                                                     'layer_normalization[0][0]'] \n",
            "                                                                                                  \n",
            " add (Add)                   (None, 17, 100)              0         ['concatenate[0][0]',         \n",
            "                                                                     'multi_head_attention[0][0]']\n",
            "                                                                                                  \n",
            " layer_normalization_1 (Lay  (None, 17, 100)              200       ['add[0][0]']                 \n",
            " erNormalization)                                                                                 \n",
            "                                                                                                  \n",
            " dense_3 (Dense)             (None, 17, 100)              10100     ['layer_normalization_1[0][0]'\n",
            "                                                                    ]                             \n",
            "                                                                                                  \n",
            " dropout_3 (Dropout)         (None, 17, 100)              0         ['dense_3[0][0]']             \n",
            "                                                                                                  \n",
            " dense_4 (Dense)             (None, 17, 100)              10100     ['dropout_3[0][0]']           \n",
            "                                                                                                  \n",
            " dropout_4 (Dropout)         (None, 17, 100)              0         ['dense_4[0][0]']             \n",
            "                                                                                                  \n",
            " add_1 (Add)                 (None, 17, 100)              0         ['dropout_4[0][0]',           \n",
            "                                                                     'add[0][0]']                 \n",
            "                                                                                                  \n",
            " layer_normalization_2 (Lay  (None, 17, 100)              200       ['add_1[0][0]']               \n",
            " erNormalization)                                                                                 \n",
            "                                                                                                  \n",
            " multi_head_attention_1 (Mu  (None, 17, 100)              38788     ['layer_normalization_2[0][0]'\n",
            " ltiHeadAttention)                                                  , 'layer_normalization_2[0][0]\n",
            "                                                                    ',                            \n",
            "                                                                     'layer_normalization_2[0][0]'\n",
            "                                                                    ]                             \n",
            "                                                                                                  \n",
            " add_2 (Add)                 (None, 17, 100)              0         ['add_1[0][0]',               \n",
            "                                                                     'multi_head_attention_1[0][0]\n",
            "                                                                    ']                            \n",
            "                                                                                                  \n",
            " layer_normalization_3 (Lay  (None, 17, 100)              200       ['add_2[0][0]']               \n",
            " erNormalization)                                                                                 \n",
            "                                                                                                  \n",
            " dense_5 (Dense)             (None, 17, 100)              10100     ['layer_normalization_3[0][0]'\n",
            "                                                                    ]                             \n",
            "                                                                                                  \n",
            " dropout_5 (Dropout)         (None, 17, 100)              0         ['dense_5[0][0]']             \n",
            "                                                                                                  \n",
            " dense_6 (Dense)             (None, 17, 100)              10100     ['dropout_5[0][0]']           \n",
            "                                                                                                  \n",
            " dropout_6 (Dropout)         (None, 17, 100)              0         ['dense_6[0][0]']             \n",
            "                                                                                                  \n",
            " add_3 (Add)                 (None, 17, 100)              0         ['dropout_6[0][0]',           \n",
            "                                                                     'add_2[0][0]']               \n",
            "                                                                                                  \n",
            " layer_normalization_4 (Lay  (None, 17, 100)              200       ['add_3[0][0]']               \n",
            " erNormalization)                                                                                 \n",
            "                                                                                                  \n",
            " multi_head_attention_2 (Mu  (None, 17, 100)              38788     ['layer_normalization_4[0][0]'\n",
            " ltiHeadAttention)                                                  , 'layer_normalization_4[0][0]\n",
            "                                                                    ',                            \n",
            "                                                                     'layer_normalization_4[0][0]'\n",
            "                                                                    ]                             \n",
            "                                                                                                  \n",
            " add_4 (Add)                 (None, 17, 100)              0         ['add_3[0][0]',               \n",
            "                                                                     'multi_head_attention_2[0][0]\n",
            "                                                                    ']                            \n",
            "                                                                                                  \n",
            " layer_normalization_5 (Lay  (None, 17, 100)              200       ['add_4[0][0]']               \n",
            " erNormalization)                                                                                 \n",
            "                                                                                                  \n",
            " dense_7 (Dense)             (None, 17, 100)              10100     ['layer_normalization_5[0][0]'\n",
            "                                                                    ]                             \n",
            "                                                                                                  \n",
            " dropout_7 (Dropout)         (None, 17, 100)              0         ['dense_7[0][0]']             \n",
            "                                                                                                  \n",
            " dense_8 (Dense)             (None, 17, 100)              10100     ['dropout_7[0][0]']           \n",
            "                                                                                                  \n",
            " dropout_8 (Dropout)         (None, 17, 100)              0         ['dense_8[0][0]']             \n",
            "                                                                                                  \n",
            " add_5 (Add)                 (None, 17, 100)              0         ['dropout_8[0][0]',           \n",
            "                                                                     'add_4[0][0]']               \n",
            "                                                                                                  \n",
            " layer_normalization_6 (Lay  (None, 17, 100)              200       ['add_5[0][0]']               \n",
            " erNormalization)                                                                                 \n",
            "                                                                                                  \n",
            " multi_head_attention_3 (Mu  (None, 17, 100)              38788     ['layer_normalization_6[0][0]'\n",
            " ltiHeadAttention)                                                  , 'layer_normalization_6[0][0]\n",
            "                                                                    ',                            \n",
            "                                                                     'layer_normalization_6[0][0]'\n",
            "                                                                    ]                             \n",
            "                                                                                                  \n",
            " add_6 (Add)                 (None, 17, 100)              0         ['add_5[0][0]',               \n",
            "                                                                     'multi_head_attention_3[0][0]\n",
            "                                                                    ']                            \n",
            "                                                                                                  \n",
            " layer_normalization_7 (Lay  (None, 17, 100)              200       ['add_6[0][0]']               \n",
            " erNormalization)                                                                                 \n",
            "                                                                                                  \n",
            " dense_9 (Dense)             (None, 17, 100)              10100     ['layer_normalization_7[0][0]'\n",
            "                                                                    ]                             \n",
            "                                                                                                  \n",
            " dropout_9 (Dropout)         (None, 17, 100)              0         ['dense_9[0][0]']             \n",
            "                                                                                                  \n",
            " dense_10 (Dense)            (None, 17, 100)              10100     ['dropout_9[0][0]']           \n",
            "                                                                                                  \n",
            " dropout_10 (Dropout)        (None, 17, 100)              0         ['dense_10[0][0]']            \n",
            "                                                                                                  \n",
            " add_7 (Add)                 (None, 17, 100)              0         ['dropout_10[0][0]',          \n",
            "                                                                     'add_6[0][0]']               \n",
            "                                                                                                  \n",
            " layer_normalization_8 (Lay  (None, 17, 100)              200       ['add_7[0][0]']               \n",
            " erNormalization)                                                                                 \n",
            "                                                                                                  \n",
            " multi_head_attention_4 (Mu  (None, 17, 100)              38788     ['layer_normalization_8[0][0]'\n",
            " ltiHeadAttention)                                                  , 'layer_normalization_8[0][0]\n",
            "                                                                    ',                            \n",
            "                                                                     'layer_normalization_8[0][0]'\n",
            "                                                                    ]                             \n",
            "                                                                                                  \n",
            " add_8 (Add)                 (None, 17, 100)              0         ['add_7[0][0]',               \n",
            "                                                                     'multi_head_attention_4[0][0]\n",
            "                                                                    ']                            \n",
            "                                                                                                  \n",
            " layer_normalization_9 (Lay  (None, 17, 100)              200       ['add_8[0][0]']               \n",
            " erNormalization)                                                                                 \n",
            "                                                                                                  \n",
            " dense_11 (Dense)            (None, 17, 100)              10100     ['layer_normalization_9[0][0]'\n",
            "                                                                    ]                             \n",
            "                                                                                                  \n",
            " dropout_11 (Dropout)        (None, 17, 100)              0         ['dense_11[0][0]']            \n",
            "                                                                                                  \n",
            " dense_12 (Dense)            (None, 17, 100)              10100     ['dropout_11[0][0]']          \n",
            "                                                                                                  \n",
            " dropout_12 (Dropout)        (None, 17, 100)              0         ['dense_12[0][0]']            \n",
            "                                                                                                  \n",
            " add_9 (Add)                 (None, 17, 100)              0         ['dropout_12[0][0]',          \n",
            "                                                                     'add_8[0][0]']               \n",
            "                                                                                                  \n",
            " layer_normalization_10 (La  (None, 17, 100)              200       ['add_9[0][0]']               \n",
            " yerNormalization)                                                                                \n",
            "                                                                                                  \n",
            " multi_head_attention_5 (Mu  (None, 17, 100)              38788     ['layer_normalization_10[0][0]\n",
            " ltiHeadAttention)                                                  ',                            \n",
            "                                                                     'layer_normalization_10[0][0]\n",
            "                                                                    ',                            \n",
            "                                                                     'layer_normalization_10[0][0]\n",
            "                                                                    ']                            \n",
            "                                                                                                  \n",
            " add_10 (Add)                (None, 17, 100)              0         ['add_9[0][0]',               \n",
            "                                                                     'multi_head_attention_5[0][0]\n",
            "                                                                    ']                            \n",
            "                                                                                                  \n",
            " layer_normalization_11 (La  (None, 17, 100)              200       ['add_10[0][0]']              \n",
            " yerNormalization)                                                                                \n",
            "                                                                                                  \n",
            " dense_13 (Dense)            (None, 17, 100)              10100     ['layer_normalization_11[0][0]\n",
            "                                                                    ']                            \n",
            "                                                                                                  \n",
            " dropout_13 (Dropout)        (None, 17, 100)              0         ['dense_13[0][0]']            \n",
            "                                                                                                  \n",
            " dense_14 (Dense)            (None, 17, 100)              10100     ['dropout_13[0][0]']          \n",
            "                                                                                                  \n",
            " dropout_14 (Dropout)        (None, 17, 100)              0         ['dense_14[0][0]']            \n",
            "                                                                                                  \n",
            " add_11 (Add)                (None, 17, 100)              0         ['dropout_14[0][0]',          \n",
            "                                                                     'add_10[0][0]']              \n",
            "                                                                                                  \n",
            " layer_normalization_12 (La  (None, 17, 100)              200       ['add_11[0][0]']              \n",
            " yerNormalization)                                                                                \n",
            "                                                                                                  \n",
            " multi_head_attention_6 (Mu  (None, 17, 100)              38788     ['layer_normalization_12[0][0]\n",
            " ltiHeadAttention)                                                  ',                            \n",
            "                                                                     'layer_normalization_12[0][0]\n",
            "                                                                    ',                            \n",
            "                                                                     'layer_normalization_12[0][0]\n",
            "                                                                    ']                            \n",
            "                                                                                                  \n",
            " add_12 (Add)                (None, 17, 100)              0         ['add_11[0][0]',              \n",
            "                                                                     'multi_head_attention_6[0][0]\n",
            "                                                                    ']                            \n",
            "                                                                                                  \n",
            " layer_normalization_13 (La  (None, 17, 100)              200       ['add_12[0][0]']              \n",
            " yerNormalization)                                                                                \n",
            "                                                                                                  \n",
            " dense_15 (Dense)            (None, 17, 100)              10100     ['layer_normalization_13[0][0]\n",
            "                                                                    ']                            \n",
            "                                                                                                  \n",
            " dropout_15 (Dropout)        (None, 17, 100)              0         ['dense_15[0][0]']            \n",
            "                                                                                                  \n",
            " dense_16 (Dense)            (None, 17, 100)              10100     ['dropout_15[0][0]']          \n",
            "                                                                                                  \n",
            " dropout_16 (Dropout)        (None, 17, 100)              0         ['dense_16[0][0]']            \n",
            "                                                                                                  \n",
            " add_13 (Add)                (None, 17, 100)              0         ['dropout_16[0][0]',          \n",
            "                                                                     'add_12[0][0]']              \n",
            "                                                                                                  \n",
            " layer_normalization_14 (La  (None, 17, 100)              200       ['add_13[0][0]']              \n",
            " yerNormalization)                                                                                \n",
            "                                                                                                  \n",
            " multi_head_attention_7 (Mu  (None, 17, 100)              38788     ['layer_normalization_14[0][0]\n",
            " ltiHeadAttention)                                                  ',                            \n",
            "                                                                     'layer_normalization_14[0][0]\n",
            "                                                                    ',                            \n",
            "                                                                     'layer_normalization_14[0][0]\n",
            "                                                                    ']                            \n",
            "                                                                                                  \n",
            " add_14 (Add)                (None, 17, 100)              0         ['add_13[0][0]',              \n",
            "                                                                     'multi_head_attention_7[0][0]\n",
            "                                                                    ']                            \n",
            "                                                                                                  \n",
            " layer_normalization_15 (La  (None, 17, 100)              200       ['add_14[0][0]']              \n",
            " yerNormalization)                                                                                \n",
            "                                                                                                  \n",
            " dense_17 (Dense)            (None, 17, 100)              10100     ['layer_normalization_15[0][0]\n",
            "                                                                    ']                            \n",
            "                                                                                                  \n",
            " dropout_17 (Dropout)        (None, 17, 100)              0         ['dense_17[0][0]']            \n",
            "                                                                                                  \n",
            " dense_18 (Dense)            (None, 17, 100)              10100     ['dropout_17[0][0]']          \n",
            "                                                                                                  \n",
            " dropout_18 (Dropout)        (None, 17, 100)              0         ['dense_18[0][0]']            \n",
            "                                                                                                  \n",
            " add_15 (Add)                (None, 17, 100)              0         ['dropout_18[0][0]',          \n",
            "                                                                     'add_14[0][0]']              \n",
            "                                                                                                  \n",
            " layer_normalization_16 (La  (None, 17, 100)              200       ['add_15[0][0]']              \n",
            " yerNormalization)                                                                                \n",
            "                                                                                                  \n",
            " tf.__operators__.getitem (  (None, 100)                  0         ['layer_normalization_16[0][0]\n",
            " SlicingOpLambda)                                                   ']                            \n",
            "                                                                                                  \n",
            " dense_19 (Dense)            (None, 10)                   1010      ['tf.__operators__.getitem[0][\n",
            "                                                                    0]']                          \n",
            "                                                                                                  \n",
            "==================================================================================================\n",
            "Total params: 483014 (1.84 MB)\n",
            "Trainable params: 483014 (1.84 MB)\n",
            "Non-trainable params: 0 (0.00 Byte)\n",
            "__________________________________________________________________________________________________\n"
          ]
        }
      ]
    },
    {
      "cell_type": "code",
      "source": [
        "mnist = tf.keras.datasets.mnist\n",
        "\n",
        "(x_train, y_train),(x_test, y_test) = mnist.load_data()\n",
        "x_train, x_test = x_train / 255.0, x_test / 255.0\n",
        "\n",
        "ndata_train = x_train.shape[0]\n",
        "ndata_test = x_test.shape[0]"
      ],
      "metadata": {
        "id": "z0LCMZInNb3_"
      },
      "execution_count": null,
      "outputs": []
    },
    {
      "cell_type": "code",
      "source": [
        "x_train_ravel = np.zeros((ndata_train,n*m,block_size))\n",
        "for img in range(ndata_train):\n",
        "    ind = 0\n",
        "    for row in range(n):\n",
        "        for col in range(m):\n",
        "            x_train_ravel[img,ind,:] = x_train[img,(row*7):((row+1)*7),(col*7):((col+1)*7)].ravel()\n",
        "            ind += 1"
      ],
      "metadata": {
        "id": "JiKFk7gLNvkL"
      },
      "execution_count": null,
      "outputs": []
    },
    {
      "cell_type": "code",
      "source": [
        "x_test_ravel = np.zeros((ndata_test,n*m,block_size))\n",
        "for img in range(ndata_test):\n",
        "    ind = 0\n",
        "    for row in range(n):\n",
        "        for col in range(m):\n",
        "            x_test_ravel[img,ind,:] = x_test[img,(row*7):((row+1)*7),(col*7):((col+1)*7)].ravel()\n",
        "            ind += 1"
      ],
      "metadata": {
        "id": "H-cwHPnTN8oW"
      },
      "execution_count": null,
      "outputs": []
    },
    {
      "cell_type": "code",
      "source": [
        "pos_feed_train = np.array([list(range(n*m))]*ndata_train)\n",
        "pos_feed_test = np.array([list(range(n*m))]*ndata_test)"
      ],
      "metadata": {
        "id": "5LjhFLjsOCPs"
      },
      "execution_count": null,
      "outputs": []
    },
    {
      "cell_type": "markdown",
      "source": [
        "## Training the model on 80% of the training data"
      ],
      "metadata": {
        "id": "UvejtrRoeOds"
      }
    },
    {
      "cell_type": "code",
      "source": [
        "trans_history = trans.fit([x_train_ravel,pos_feed_train],y_train,epochs=120,batch_size = 100,validation_split=0.20)"
      ],
      "metadata": {
        "colab": {
          "base_uri": "https://localhost:8080/"
        },
        "id": "LLlD8U0LOEhJ",
        "outputId": "5125e875-8860-496b-b1a5-a582e06071c1"
      },
      "execution_count": null,
      "outputs": [
        {
          "output_type": "stream",
          "name": "stdout",
          "text": [
            "Epoch 1/120\n",
            "480/480 [==============================] - 37s 36ms/step - loss: 0.6479 - accuracy: 0.7844 - val_loss: 0.2038 - val_accuracy: 0.9391\n",
            "Epoch 2/120\n",
            "480/480 [==============================] - 14s 29ms/step - loss: 0.1953 - accuracy: 0.9397 - val_loss: 0.1312 - val_accuracy: 0.9608\n",
            "Epoch 3/120\n",
            "480/480 [==============================] - 15s 31ms/step - loss: 0.1364 - accuracy: 0.9576 - val_loss: 0.1140 - val_accuracy: 0.9656\n",
            "Epoch 4/120\n",
            "480/480 [==============================] - 15s 31ms/step - loss: 0.1120 - accuracy: 0.9645 - val_loss: 0.0966 - val_accuracy: 0.9707\n",
            "Epoch 5/120\n",
            "480/480 [==============================] - 15s 32ms/step - loss: 0.0933 - accuracy: 0.9702 - val_loss: 0.0946 - val_accuracy: 0.9722\n",
            "Epoch 6/120\n",
            "480/480 [==============================] - 14s 28ms/step - loss: 0.0843 - accuracy: 0.9731 - val_loss: 0.0991 - val_accuracy: 0.9707\n",
            "Epoch 7/120\n",
            "480/480 [==============================] - 14s 28ms/step - loss: 0.0810 - accuracy: 0.9744 - val_loss: 0.1023 - val_accuracy: 0.9696\n",
            "Epoch 8/120\n",
            "480/480 [==============================] - 13s 28ms/step - loss: 0.0672 - accuracy: 0.9780 - val_loss: 0.0802 - val_accuracy: 0.9762\n",
            "Epoch 9/120\n",
            "480/480 [==============================] - 13s 28ms/step - loss: 0.0650 - accuracy: 0.9793 - val_loss: 0.0876 - val_accuracy: 0.9747\n",
            "Epoch 10/120\n",
            "480/480 [==============================] - 13s 27ms/step - loss: 0.0599 - accuracy: 0.9801 - val_loss: 0.0932 - val_accuracy: 0.9715\n",
            "Epoch 11/120\n",
            "480/480 [==============================] - 13s 28ms/step - loss: 0.0570 - accuracy: 0.9808 - val_loss: 0.0854 - val_accuracy: 0.9740\n",
            "Epoch 12/120\n",
            "480/480 [==============================] - 14s 30ms/step - loss: 0.0530 - accuracy: 0.9825 - val_loss: 0.0751 - val_accuracy: 0.9771\n",
            "Epoch 13/120\n",
            "480/480 [==============================] - 13s 28ms/step - loss: 0.0505 - accuracy: 0.9831 - val_loss: 0.0887 - val_accuracy: 0.9761\n",
            "Epoch 14/120\n",
            "480/480 [==============================] - 14s 29ms/step - loss: 0.0521 - accuracy: 0.9834 - val_loss: 0.0701 - val_accuracy: 0.9797\n",
            "Epoch 15/120\n",
            "480/480 [==============================] - 14s 29ms/step - loss: 0.0459 - accuracy: 0.9849 - val_loss: 0.0703 - val_accuracy: 0.9801\n",
            "Epoch 16/120\n",
            "480/480 [==============================] - 14s 30ms/step - loss: 0.0425 - accuracy: 0.9864 - val_loss: 0.0813 - val_accuracy: 0.9773\n",
            "Epoch 17/120\n",
            "480/480 [==============================] - 14s 29ms/step - loss: 0.0418 - accuracy: 0.9861 - val_loss: 0.0782 - val_accuracy: 0.9779\n",
            "Epoch 18/120\n",
            "480/480 [==============================] - 14s 29ms/step - loss: 0.0374 - accuracy: 0.9879 - val_loss: 0.0775 - val_accuracy: 0.9778\n",
            "Epoch 19/120\n",
            "480/480 [==============================] - 13s 28ms/step - loss: 0.0405 - accuracy: 0.9862 - val_loss: 0.0801 - val_accuracy: 0.9768\n",
            "Epoch 20/120\n",
            "480/480 [==============================] - 13s 28ms/step - loss: 0.0348 - accuracy: 0.9886 - val_loss: 0.0783 - val_accuracy: 0.9785\n",
            "Epoch 21/120\n",
            "480/480 [==============================] - 14s 30ms/step - loss: 0.0351 - accuracy: 0.9886 - val_loss: 0.0824 - val_accuracy: 0.9787\n",
            "Epoch 22/120\n",
            "480/480 [==============================] - 14s 30ms/step - loss: 0.0345 - accuracy: 0.9880 - val_loss: 0.0706 - val_accuracy: 0.9804\n",
            "Epoch 23/120\n",
            "480/480 [==============================] - 15s 31ms/step - loss: 0.0305 - accuracy: 0.9900 - val_loss: 0.0683 - val_accuracy: 0.9815\n",
            "Epoch 24/120\n",
            "480/480 [==============================] - 15s 31ms/step - loss: 0.0310 - accuracy: 0.9895 - val_loss: 0.0760 - val_accuracy: 0.9808\n",
            "Epoch 25/120\n",
            "480/480 [==============================] - 13s 28ms/step - loss: 0.0303 - accuracy: 0.9893 - val_loss: 0.0819 - val_accuracy: 0.9800\n",
            "Epoch 26/120\n",
            "480/480 [==============================] - 13s 28ms/step - loss: 0.0237 - accuracy: 0.9918 - val_loss: 0.0702 - val_accuracy: 0.9807\n",
            "Epoch 27/120\n",
            "480/480 [==============================] - 14s 28ms/step - loss: 0.0260 - accuracy: 0.9912 - val_loss: 0.0739 - val_accuracy: 0.9805\n",
            "Epoch 28/120\n",
            "480/480 [==============================] - 14s 30ms/step - loss: 0.0298 - accuracy: 0.9898 - val_loss: 0.0713 - val_accuracy: 0.9812\n",
            "Epoch 29/120\n",
            "480/480 [==============================] - 14s 28ms/step - loss: 0.0265 - accuracy: 0.9909 - val_loss: 0.0676 - val_accuracy: 0.9823\n",
            "Epoch 30/120\n",
            "480/480 [==============================] - 15s 30ms/step - loss: 0.0263 - accuracy: 0.9908 - val_loss: 0.0795 - val_accuracy: 0.9799\n",
            "Epoch 31/120\n",
            "480/480 [==============================] - 14s 29ms/step - loss: 0.0237 - accuracy: 0.9922 - val_loss: 0.0707 - val_accuracy: 0.9814\n",
            "Epoch 32/120\n",
            "480/480 [==============================] - 14s 30ms/step - loss: 0.0237 - accuracy: 0.9922 - val_loss: 0.0779 - val_accuracy: 0.9810\n",
            "Epoch 33/120\n",
            "480/480 [==============================] - 14s 29ms/step - loss: 0.0226 - accuracy: 0.9926 - val_loss: 0.0759 - val_accuracy: 0.9798\n",
            "Epoch 34/120\n",
            "480/480 [==============================] - 13s 27ms/step - loss: 0.0243 - accuracy: 0.9911 - val_loss: 0.0670 - val_accuracy: 0.9817\n",
            "Epoch 35/120\n",
            "480/480 [==============================] - 14s 28ms/step - loss: 0.0210 - accuracy: 0.9930 - val_loss: 0.0679 - val_accuracy: 0.9821\n",
            "Epoch 36/120\n",
            "480/480 [==============================] - 13s 27ms/step - loss: 0.0190 - accuracy: 0.9937 - val_loss: 0.0740 - val_accuracy: 0.9802\n",
            "Epoch 37/120\n",
            "480/480 [==============================] - 13s 27ms/step - loss: 0.0203 - accuracy: 0.9933 - val_loss: 0.0766 - val_accuracy: 0.9803\n",
            "Epoch 38/120\n",
            "480/480 [==============================] - 13s 28ms/step - loss: 0.0212 - accuracy: 0.9926 - val_loss: 0.0710 - val_accuracy: 0.9818\n",
            "Epoch 39/120\n",
            "480/480 [==============================] - 13s 27ms/step - loss: 0.0160 - accuracy: 0.9948 - val_loss: 0.0688 - val_accuracy: 0.9825\n",
            "Epoch 40/120\n",
            "480/480 [==============================] - 13s 28ms/step - loss: 0.0201 - accuracy: 0.9929 - val_loss: 0.0665 - val_accuracy: 0.9818\n",
            "Epoch 41/120\n",
            "480/480 [==============================] - 13s 27ms/step - loss: 0.0152 - accuracy: 0.9949 - val_loss: 0.0751 - val_accuracy: 0.9797\n",
            "Epoch 42/120\n",
            "480/480 [==============================] - 13s 27ms/step - loss: 0.0192 - accuracy: 0.9932 - val_loss: 0.0667 - val_accuracy: 0.9843\n",
            "Epoch 43/120\n",
            "480/480 [==============================] - 13s 28ms/step - loss: 0.0148 - accuracy: 0.9949 - val_loss: 0.0683 - val_accuracy: 0.9837\n",
            "Epoch 44/120\n",
            "480/480 [==============================] - 13s 27ms/step - loss: 0.0200 - accuracy: 0.9935 - val_loss: 0.0630 - val_accuracy: 0.9846\n",
            "Epoch 45/120\n",
            "480/480 [==============================] - 14s 29ms/step - loss: 0.0161 - accuracy: 0.9946 - val_loss: 0.0598 - val_accuracy: 0.9849\n",
            "Epoch 46/120\n",
            "480/480 [==============================] - 13s 28ms/step - loss: 0.0149 - accuracy: 0.9950 - val_loss: 0.0573 - val_accuracy: 0.9867\n",
            "Epoch 47/120\n",
            "480/480 [==============================] - 14s 28ms/step - loss: 0.0167 - accuracy: 0.9941 - val_loss: 0.0643 - val_accuracy: 0.9824\n",
            "Epoch 48/120\n",
            "480/480 [==============================] - 13s 27ms/step - loss: 0.0140 - accuracy: 0.9952 - val_loss: 0.0686 - val_accuracy: 0.9831\n",
            "Epoch 49/120\n",
            "480/480 [==============================] - 13s 26ms/step - loss: 0.0150 - accuracy: 0.9946 - val_loss: 0.0622 - val_accuracy: 0.9847\n",
            "Epoch 50/120\n",
            "480/480 [==============================] - 13s 26ms/step - loss: 0.0139 - accuracy: 0.9953 - val_loss: 0.0684 - val_accuracy: 0.9837\n",
            "Epoch 51/120\n",
            "480/480 [==============================] - 13s 27ms/step - loss: 0.0140 - accuracy: 0.9953 - val_loss: 0.0787 - val_accuracy: 0.9822\n",
            "Epoch 52/120\n",
            "480/480 [==============================] - 13s 27ms/step - loss: 0.0158 - accuracy: 0.9944 - val_loss: 0.0632 - val_accuracy: 0.9845\n",
            "Epoch 53/120\n",
            "480/480 [==============================] - 13s 28ms/step - loss: 0.0124 - accuracy: 0.9956 - val_loss: 0.0789 - val_accuracy: 0.9820\n",
            "Epoch 54/120\n",
            "480/480 [==============================] - 13s 28ms/step - loss: 0.0140 - accuracy: 0.9952 - val_loss: 0.0697 - val_accuracy: 0.9829\n",
            "Epoch 55/120\n",
            "480/480 [==============================] - 14s 29ms/step - loss: 0.0140 - accuracy: 0.9954 - val_loss: 0.0664 - val_accuracy: 0.9841\n",
            "Epoch 56/120\n",
            "480/480 [==============================] - 13s 28ms/step - loss: 0.0136 - accuracy: 0.9949 - val_loss: 0.0725 - val_accuracy: 0.9838\n",
            "Epoch 57/120\n",
            "480/480 [==============================] - 15s 31ms/step - loss: 0.0109 - accuracy: 0.9960 - val_loss: 0.0669 - val_accuracy: 0.9845\n",
            "Epoch 58/120\n",
            "480/480 [==============================] - 13s 28ms/step - loss: 0.0120 - accuracy: 0.9959 - val_loss: 0.0699 - val_accuracy: 0.9830\n",
            "Epoch 59/120\n",
            "480/480 [==============================] - 14s 29ms/step - loss: 0.0117 - accuracy: 0.9959 - val_loss: 0.0661 - val_accuracy: 0.9843\n",
            "Epoch 60/120\n",
            "480/480 [==============================] - 13s 28ms/step - loss: 0.0108 - accuracy: 0.9961 - val_loss: 0.0723 - val_accuracy: 0.9834\n",
            "Epoch 61/120\n",
            "480/480 [==============================] - 13s 27ms/step - loss: 0.0126 - accuracy: 0.9956 - val_loss: 0.0606 - val_accuracy: 0.9856\n",
            "Epoch 62/120\n",
            "480/480 [==============================] - 14s 29ms/step - loss: 0.0110 - accuracy: 0.9964 - val_loss: 0.0670 - val_accuracy: 0.9836\n",
            "Epoch 63/120\n",
            "480/480 [==============================] - 14s 29ms/step - loss: 0.0108 - accuracy: 0.9961 - val_loss: 0.0657 - val_accuracy: 0.9843\n",
            "Epoch 64/120\n",
            "480/480 [==============================] - 14s 30ms/step - loss: 0.0142 - accuracy: 0.9951 - val_loss: 0.0682 - val_accuracy: 0.9827\n",
            "Epoch 65/120\n",
            "480/480 [==============================] - 14s 30ms/step - loss: 0.0142 - accuracy: 0.9952 - val_loss: 0.0594 - val_accuracy: 0.9858\n",
            "Epoch 66/120\n",
            "480/480 [==============================] - 19s 41ms/step - loss: 0.0116 - accuracy: 0.9966 - val_loss: 0.0643 - val_accuracy: 0.9853\n",
            "Epoch 67/120\n",
            "480/480 [==============================] - 15s 32ms/step - loss: 0.0092 - accuracy: 0.9966 - val_loss: 0.0722 - val_accuracy: 0.9833\n",
            "Epoch 68/120\n",
            "480/480 [==============================] - 14s 30ms/step - loss: 0.0101 - accuracy: 0.9964 - val_loss: 0.0643 - val_accuracy: 0.9844\n",
            "Epoch 69/120\n",
            "480/480 [==============================] - 14s 30ms/step - loss: 0.0098 - accuracy: 0.9965 - val_loss: 0.0781 - val_accuracy: 0.9828\n",
            "Epoch 70/120\n",
            "480/480 [==============================] - 14s 29ms/step - loss: 0.0127 - accuracy: 0.9958 - val_loss: 0.0716 - val_accuracy: 0.9834\n",
            "Epoch 71/120\n",
            "480/480 [==============================] - 14s 29ms/step - loss: 0.0106 - accuracy: 0.9962 - val_loss: 0.0707 - val_accuracy: 0.9833\n",
            "Epoch 72/120\n",
            "480/480 [==============================] - 14s 30ms/step - loss: 0.0084 - accuracy: 0.9972 - val_loss: 0.0693 - val_accuracy: 0.9851\n",
            "Epoch 73/120\n",
            "480/480 [==============================] - 14s 28ms/step - loss: 0.0118 - accuracy: 0.9958 - val_loss: 0.0787 - val_accuracy: 0.9818\n",
            "Epoch 74/120\n",
            "480/480 [==============================] - 14s 28ms/step - loss: 0.0102 - accuracy: 0.9965 - val_loss: 0.0811 - val_accuracy: 0.9821\n",
            "Epoch 75/120\n",
            "480/480 [==============================] - 13s 27ms/step - loss: 0.0083 - accuracy: 0.9970 - val_loss: 0.0682 - val_accuracy: 0.9855\n",
            "Epoch 76/120\n",
            "480/480 [==============================] - 14s 28ms/step - loss: 0.0077 - accuracy: 0.9971 - val_loss: 0.0726 - val_accuracy: 0.9857\n",
            "Epoch 77/120\n",
            "480/480 [==============================] - 13s 28ms/step - loss: 0.0111 - accuracy: 0.9961 - val_loss: 0.0687 - val_accuracy: 0.9846\n",
            "Epoch 78/120\n",
            "480/480 [==============================] - 13s 27ms/step - loss: 0.0116 - accuracy: 0.9963 - val_loss: 0.0655 - val_accuracy: 0.9847\n",
            "Epoch 79/120\n",
            "480/480 [==============================] - 15s 30ms/step - loss: 0.0071 - accuracy: 0.9975 - val_loss: 0.0697 - val_accuracy: 0.9860\n",
            "Epoch 80/120\n",
            "480/480 [==============================] - 14s 29ms/step - loss: 0.0093 - accuracy: 0.9970 - val_loss: 0.0674 - val_accuracy: 0.9853\n",
            "Epoch 81/120\n",
            "480/480 [==============================] - 14s 30ms/step - loss: 0.0082 - accuracy: 0.9973 - val_loss: 0.0688 - val_accuracy: 0.9851\n",
            "Epoch 82/120\n",
            "480/480 [==============================] - 13s 28ms/step - loss: 0.0097 - accuracy: 0.9966 - val_loss: 0.0675 - val_accuracy: 0.9852\n",
            "Epoch 83/120\n",
            "480/480 [==============================] - 13s 28ms/step - loss: 0.0104 - accuracy: 0.9965 - val_loss: 0.0629 - val_accuracy: 0.9859\n",
            "Epoch 84/120\n",
            "480/480 [==============================] - 14s 29ms/step - loss: 0.0079 - accuracy: 0.9975 - val_loss: 0.0701 - val_accuracy: 0.9862\n",
            "Epoch 85/120\n",
            "480/480 [==============================] - 13s 28ms/step - loss: 0.0064 - accuracy: 0.9980 - val_loss: 0.0608 - val_accuracy: 0.9866\n",
            "Epoch 86/120\n",
            "480/480 [==============================] - 13s 27ms/step - loss: 0.0078 - accuracy: 0.9973 - val_loss: 0.0743 - val_accuracy: 0.9845\n",
            "Epoch 87/120\n",
            "480/480 [==============================] - 14s 28ms/step - loss: 0.0093 - accuracy: 0.9970 - val_loss: 0.0694 - val_accuracy: 0.9847\n",
            "Epoch 88/120\n",
            "480/480 [==============================] - 13s 28ms/step - loss: 0.0079 - accuracy: 0.9971 - val_loss: 0.0671 - val_accuracy: 0.9860\n",
            "Epoch 89/120\n",
            "480/480 [==============================] - 13s 27ms/step - loss: 0.0091 - accuracy: 0.9965 - val_loss: 0.0703 - val_accuracy: 0.9837\n",
            "Epoch 90/120\n",
            "480/480 [==============================] - 15s 30ms/step - loss: 0.0076 - accuracy: 0.9974 - val_loss: 0.0618 - val_accuracy: 0.9872\n",
            "Epoch 91/120\n",
            "480/480 [==============================] - 13s 27ms/step - loss: 0.0067 - accuracy: 0.9974 - val_loss: 0.0679 - val_accuracy: 0.9859\n",
            "Epoch 92/120\n",
            "480/480 [==============================] - 13s 28ms/step - loss: 0.0071 - accuracy: 0.9980 - val_loss: 0.0706 - val_accuracy: 0.9840\n",
            "Epoch 93/120\n",
            "480/480 [==============================] - 13s 27ms/step - loss: 0.0096 - accuracy: 0.9967 - val_loss: 0.0649 - val_accuracy: 0.9861\n",
            "Epoch 94/120\n",
            "480/480 [==============================] - 13s 27ms/step - loss: 0.0072 - accuracy: 0.9974 - val_loss: 0.0663 - val_accuracy: 0.9865\n",
            "Epoch 95/120\n",
            "480/480 [==============================] - 13s 27ms/step - loss: 0.0077 - accuracy: 0.9974 - val_loss: 0.0639 - val_accuracy: 0.9866\n",
            "Epoch 96/120\n",
            "480/480 [==============================] - 14s 28ms/step - loss: 0.0068 - accuracy: 0.9977 - val_loss: 0.0733 - val_accuracy: 0.9840\n",
            "Epoch 97/120\n",
            "480/480 [==============================] - 13s 27ms/step - loss: 0.0073 - accuracy: 0.9974 - val_loss: 0.0689 - val_accuracy: 0.9843\n",
            "Epoch 98/120\n",
            "480/480 [==============================] - 13s 27ms/step - loss: 0.0086 - accuracy: 0.9971 - val_loss: 0.0713 - val_accuracy: 0.9847\n",
            "Epoch 99/120\n",
            "480/480 [==============================] - 14s 29ms/step - loss: 0.0090 - accuracy: 0.9968 - val_loss: 0.0676 - val_accuracy: 0.9850\n",
            "Epoch 100/120\n",
            "480/480 [==============================] - 14s 29ms/step - loss: 0.0090 - accuracy: 0.9971 - val_loss: 0.0643 - val_accuracy: 0.9858\n",
            "Epoch 101/120\n",
            "480/480 [==============================] - 14s 29ms/step - loss: 0.0045 - accuracy: 0.9984 - val_loss: 0.0588 - val_accuracy: 0.9869\n",
            "Epoch 102/120\n",
            "480/480 [==============================] - 14s 29ms/step - loss: 0.0063 - accuracy: 0.9979 - val_loss: 0.0654 - val_accuracy: 0.9863\n",
            "Epoch 103/120\n",
            "480/480 [==============================] - 14s 28ms/step - loss: 0.0066 - accuracy: 0.9976 - val_loss: 0.0783 - val_accuracy: 0.9852\n",
            "Epoch 104/120\n",
            "480/480 [==============================] - 14s 29ms/step - loss: 0.0085 - accuracy: 0.9973 - val_loss: 0.0671 - val_accuracy: 0.9857\n",
            "Epoch 105/120\n",
            "480/480 [==============================] - 13s 27ms/step - loss: 0.0076 - accuracy: 0.9976 - val_loss: 0.0678 - val_accuracy: 0.9868\n",
            "Epoch 106/120\n",
            "480/480 [==============================] - 13s 27ms/step - loss: 0.0068 - accuracy: 0.9975 - val_loss: 0.0613 - val_accuracy: 0.9873\n",
            "Epoch 107/120\n",
            "480/480 [==============================] - 14s 29ms/step - loss: 0.0045 - accuracy: 0.9984 - val_loss: 0.0640 - val_accuracy: 0.9876\n",
            "Epoch 108/120\n",
            "480/480 [==============================] - 14s 29ms/step - loss: 0.0093 - accuracy: 0.9969 - val_loss: 0.0671 - val_accuracy: 0.9852\n",
            "Epoch 109/120\n",
            "480/480 [==============================] - 14s 28ms/step - loss: 0.0050 - accuracy: 0.9984 - val_loss: 0.0663 - val_accuracy: 0.9866\n",
            "Epoch 110/120\n",
            "480/480 [==============================] - 13s 28ms/step - loss: 0.0088 - accuracy: 0.9972 - val_loss: 0.0694 - val_accuracy: 0.9847\n",
            "Epoch 111/120\n",
            "480/480 [==============================] - 13s 28ms/step - loss: 0.0077 - accuracy: 0.9975 - val_loss: 0.0614 - val_accuracy: 0.9871\n",
            "Epoch 112/120\n",
            "480/480 [==============================] - 13s 27ms/step - loss: 0.0053 - accuracy: 0.9980 - val_loss: 0.0677 - val_accuracy: 0.9847\n",
            "Epoch 113/120\n",
            "480/480 [==============================] - 14s 30ms/step - loss: 0.0055 - accuracy: 0.9981 - val_loss: 0.0650 - val_accuracy: 0.9857\n",
            "Epoch 114/120\n",
            "480/480 [==============================] - 14s 28ms/step - loss: 0.0051 - accuracy: 0.9982 - val_loss: 0.0749 - val_accuracy: 0.9852\n",
            "Epoch 115/120\n",
            "480/480 [==============================] - 13s 28ms/step - loss: 0.0063 - accuracy: 0.9979 - val_loss: 0.0725 - val_accuracy: 0.9842\n",
            "Epoch 116/120\n",
            "480/480 [==============================] - 14s 29ms/step - loss: 0.0071 - accuracy: 0.9977 - val_loss: 0.0709 - val_accuracy: 0.9857\n",
            "Epoch 117/120\n",
            "480/480 [==============================] - 15s 31ms/step - loss: 0.0070 - accuracy: 0.9975 - val_loss: 0.0694 - val_accuracy: 0.9858\n",
            "Epoch 118/120\n",
            "480/480 [==============================] - 14s 29ms/step - loss: 0.0047 - accuracy: 0.9982 - val_loss: 0.0642 - val_accuracy: 0.9867\n",
            "Epoch 119/120\n",
            "480/480 [==============================] - 13s 28ms/step - loss: 0.0047 - accuracy: 0.9985 - val_loss: 0.0733 - val_accuracy: 0.9845\n",
            "Epoch 120/120\n",
            "480/480 [==============================] - 14s 28ms/step - loss: 0.0069 - accuracy: 0.9976 - val_loss: 0.0680 - val_accuracy: 0.9844\n"
          ]
        }
      ]
    },
    {
      "cell_type": "code",
      "source": [
        "out = trans.evaluate([x_test_ravel,pos_feed_test],y_test)"
      ],
      "metadata": {
        "id": "hbD8flPZObH6",
        "colab": {
          "base_uri": "https://localhost:8080/"
        },
        "outputId": "b7814c69-4482-4583-ded4-fdb6437b7299"
      },
      "execution_count": null,
      "outputs": [
        {
          "output_type": "stream",
          "name": "stdout",
          "text": [
            "313/313 [==============================] - 8s 19ms/step - loss: 0.0697 - accuracy: 0.9863\n"
          ]
        }
      ]
    },
    {
      "cell_type": "code",
      "source": [
        "out[1]"
      ],
      "metadata": {
        "id": "fMTQuiPNQOjR",
        "colab": {
          "base_uri": "https://localhost:8080/"
        },
        "outputId": "3de50ae7-ef55-4928-9f2d-a677658ec4ca"
      },
      "execution_count": null,
      "outputs": [
        {
          "output_type": "execute_result",
          "data": {
            "text/plain": [
              "0.986299991607666"
            ]
          },
          "metadata": {},
          "execution_count": 27
        }
      ]
    },
    {
      "cell_type": "code",
      "source": [
        "plt.figure(figsize=(14, 5))\n",
        "\n",
        "# Training and validation accuracy\n",
        "plt.subplot(1, 2, 1)\n",
        "plt.plot(trans_history.history['accuracy'], label='Training Accuracy')\n",
        "plt.plot(trans_history.history['val_accuracy'], label='Validation Accuracy')\n",
        "plt.title('Training and Validation Accuracy')\n",
        "plt.xlabel('No: of Epochs')\n",
        "plt.ylabel('Accuracy')\n",
        "plt.legend()\n",
        "\n",
        "# Training and validation loss\n",
        "plt.subplot(1, 2, 2)\n",
        "plt.plot(trans_history.history['loss'], label='Training Loss')\n",
        "plt.plot(trans_history.history['val_loss'], label='Validation Loss')\n",
        "plt.title('Training and Validation Loss')\n",
        "plt.xlabel('No: of Epochs')\n",
        "plt.ylabel('Loss')\n",
        "plt.legend()\n",
        "\n",
        "plt.show()\n"
      ],
      "metadata": {
        "id": "mqVJwJ1Rchoi",
        "colab": {
          "base_uri": "https://localhost:8080/",
          "height": 487
        },
        "outputId": "5c168604-55ce-4036-a31b-481c69976b96"
      },
      "execution_count": null,
      "outputs": [
        {
          "output_type": "display_data",
          "data": {
            "text/plain": [
              "<Figure size 1400x500 with 2 Axes>"
            ],
            "image/png": "[encoded data removed]"
          },
          "metadata": {}
        }
      ]
    },
    {
      "cell_type": "code",
      "source": [
        "## Training the model on the entire training data"
      ],
      "metadata": {
        "id": "jNALZvI8eUoF"
      },
      "execution_count": null,
      "outputs": []
    },
    {
      "cell_type": "code",
      "source": [
        "trans.fit([x_train_ravel,pos_feed_train],y_train,epochs=120,batch_size = 100)"
      ],
      "metadata": {
        "id": "-EJ2jmtXdu7f",
        "colab": {
          "base_uri": "https://localhost:8080/"
        },
        "outputId": "8cd5a1e2-1daa-417f-dc49-26023d72d8a5"
      },
      "execution_count": null,
      "outputs": [
        {
          "output_type": "stream",
          "name": "stdout",
          "text": [
            "Epoch 1/120\n",
            "600/600 [==============================] - 15s 25ms/step - loss: 0.0233 - accuracy: 0.9938\n",
            "Epoch 2/120\n",
            "600/600 [==============================] - 15s 26ms/step - loss: 0.0105 - accuracy: 0.9970\n",
            "Epoch 3/120\n",
            "600/600 [==============================] - 15s 25ms/step - loss: 0.0079 - accuracy: 0.9976\n",
            "Epoch 4/120\n",
            "600/600 [==============================] - 15s 24ms/step - loss: 0.0084 - accuracy: 0.9974\n",
            "Epoch 5/120\n",
            "600/600 [==============================] - 15s 25ms/step - loss: 0.0094 - accuracy: 0.9969\n",
            "Epoch 6/120\n",
            "600/600 [==============================] - 15s 25ms/step - loss: 0.0097 - accuracy: 0.9969\n",
            "Epoch 7/120\n",
            "600/600 [==============================] - 15s 25ms/step - loss: 0.0072 - accuracy: 0.9975\n",
            "Epoch 8/120\n",
            "600/600 [==============================] - 15s 25ms/step - loss: 0.0070 - accuracy: 0.9976\n",
            "Epoch 9/120\n",
            "600/600 [==============================] - 15s 25ms/step - loss: 0.0074 - accuracy: 0.9975\n",
            "Epoch 10/120\n",
            "600/600 [==============================] - 16s 27ms/step - loss: 0.0070 - accuracy: 0.9977\n",
            "Epoch 11/120\n",
            "600/600 [==============================] - 15s 26ms/step - loss: 0.0075 - accuracy: 0.9974\n",
            "Epoch 12/120\n",
            "600/600 [==============================] - 16s 26ms/step - loss: 0.0063 - accuracy: 0.9979\n",
            "Epoch 13/120\n",
            "600/600 [==============================] - 16s 26ms/step - loss: 0.0084 - accuracy: 0.9975\n",
            "Epoch 14/120\n",
            "600/600 [==============================] - 15s 26ms/step - loss: 0.0059 - accuracy: 0.9980\n",
            "Epoch 15/120\n",
            "600/600 [==============================] - 15s 25ms/step - loss: 0.0068 - accuracy: 0.9977\n",
            "Epoch 16/120\n",
            "600/600 [==============================] - 16s 26ms/step - loss: 0.0076 - accuracy: 0.9974\n",
            "Epoch 17/120\n",
            "600/600 [==============================] - 15s 25ms/step - loss: 0.0057 - accuracy: 0.9981\n",
            "Epoch 18/120\n",
            "600/600 [==============================] - 15s 25ms/step - loss: 0.0055 - accuracy: 0.9978\n",
            "Epoch 19/120\n",
            "600/600 [==============================] - 15s 24ms/step - loss: 0.0088 - accuracy: 0.9972\n",
            "Epoch 20/120\n",
            "600/600 [==============================] - 16s 27ms/step - loss: 0.0054 - accuracy: 0.9982\n",
            "Epoch 21/120\n",
            "600/600 [==============================] - 15s 25ms/step - loss: 0.0054 - accuracy: 0.9981\n",
            "Epoch 22/120\n",
            "600/600 [==============================] - 15s 25ms/step - loss: 0.0062 - accuracy: 0.9979\n",
            "Epoch 23/120\n",
            "600/600 [==============================] - 15s 25ms/step - loss: 0.0053 - accuracy: 0.9981\n",
            "Epoch 24/120\n",
            "600/600 [==============================] - 15s 26ms/step - loss: 0.0064 - accuracy: 0.9980\n",
            "Epoch 25/120\n",
            "600/600 [==============================] - 15s 25ms/step - loss: 0.0063 - accuracy: 0.9979\n",
            "Epoch 26/120\n",
            "600/600 [==============================] - 15s 25ms/step - loss: 0.0053 - accuracy: 0.9982\n",
            "Epoch 27/120\n",
            "600/600 [==============================] - 15s 24ms/step - loss: 0.0063 - accuracy: 0.9977\n",
            "Epoch 28/120\n",
            "600/600 [==============================] - 15s 26ms/step - loss: 0.0064 - accuracy: 0.9978\n",
            "Epoch 29/120\n",
            "600/600 [==============================] - 15s 25ms/step - loss: 0.0052 - accuracy: 0.9981\n",
            "Epoch 30/120\n",
            "600/600 [==============================] - 15s 25ms/step - loss: 0.0039 - accuracy: 0.9985\n",
            "Epoch 31/120\n",
            "600/600 [==============================] - 16s 26ms/step - loss: 0.0060 - accuracy: 0.9980\n",
            "Epoch 32/120\n",
            "600/600 [==============================] - 16s 26ms/step - loss: 0.0074 - accuracy: 0.9976\n",
            "Epoch 33/120\n",
            "600/600 [==============================] - 15s 25ms/step - loss: 0.0050 - accuracy: 0.9983\n",
            "Epoch 34/120\n",
            "600/600 [==============================] - 15s 25ms/step - loss: 0.0052 - accuracy: 0.9983\n",
            "Epoch 35/120\n",
            "600/600 [==============================] - 15s 24ms/step - loss: 0.0047 - accuracy: 0.9984\n",
            "Epoch 36/120\n",
            "600/600 [==============================] - 15s 25ms/step - loss: 0.0045 - accuracy: 0.9983\n",
            "Epoch 37/120\n",
            "600/600 [==============================] - 16s 26ms/step - loss: 0.0068 - accuracy: 0.9977\n",
            "Epoch 38/120\n",
            "600/600 [==============================] - 16s 26ms/step - loss: 0.0061 - accuracy: 0.9982\n",
            "Epoch 39/120\n",
            "600/600 [==============================] - 17s 28ms/step - loss: 0.0056 - accuracy: 0.9982\n",
            "Epoch 40/120\n",
            "600/600 [==============================] - 15s 25ms/step - loss: 0.0064 - accuracy: 0.9981\n",
            "Epoch 41/120\n",
            "600/600 [==============================] - 16s 27ms/step - loss: 0.0045 - accuracy: 0.9987\n",
            "Epoch 42/120\n",
            "600/600 [==============================] - 15s 26ms/step - loss: 0.0044 - accuracy: 0.9985\n",
            "Epoch 43/120\n",
            "600/600 [==============================] - 16s 26ms/step - loss: 0.0051 - accuracy: 0.9981\n",
            "Epoch 44/120\n",
            "600/600 [==============================] - 15s 25ms/step - loss: 0.0049 - accuracy: 0.9981\n",
            "Epoch 45/120\n",
            "600/600 [==============================] - 16s 26ms/step - loss: 0.0051 - accuracy: 0.9983\n",
            "Epoch 46/120\n",
            "600/600 [==============================] - 16s 27ms/step - loss: 0.0050 - accuracy: 0.9983\n",
            "Epoch 47/120\n",
            "600/600 [==============================] - 16s 26ms/step - loss: 0.0039 - accuracy: 0.9987\n",
            "Epoch 48/120\n",
            "600/600 [==============================] - 16s 26ms/step - loss: 0.0059 - accuracy: 0.9981\n",
            "Epoch 49/120\n",
            "600/600 [==============================] - 17s 29ms/step - loss: 0.0039 - accuracy: 0.9986\n",
            "Epoch 50/120\n",
            "600/600 [==============================] - 17s 29ms/step - loss: 0.0056 - accuracy: 0.9980\n",
            "Epoch 51/120\n",
            "600/600 [==============================] - 17s 28ms/step - loss: 0.0054 - accuracy: 0.9982\n",
            "Epoch 52/120\n",
            "600/600 [==============================] - 17s 28ms/step - loss: 0.0033 - accuracy: 0.9988\n",
            "Epoch 53/120\n",
            "600/600 [==============================] - 16s 27ms/step - loss: 0.0036 - accuracy: 0.9989\n",
            "Epoch 54/120\n",
            "600/600 [==============================] - 16s 27ms/step - loss: 0.0062 - accuracy: 0.9980\n",
            "Epoch 55/120\n",
            "600/600 [==============================] - 15s 25ms/step - loss: 0.0040 - accuracy: 0.9986\n",
            "Epoch 56/120\n",
            "600/600 [==============================] - 15s 25ms/step - loss: 0.0056 - accuracy: 0.9982\n",
            "Epoch 57/120\n",
            "600/600 [==============================] - 15s 25ms/step - loss: 0.0034 - accuracy: 0.9990\n",
            "Epoch 58/120\n",
            "600/600 [==============================] - 16s 26ms/step - loss: 0.0057 - accuracy: 0.9981\n",
            "Epoch 59/120\n",
            "600/600 [==============================] - 15s 25ms/step - loss: 0.0057 - accuracy: 0.9980\n",
            "Epoch 60/120\n",
            "600/600 [==============================] - 16s 27ms/step - loss: 0.0031 - accuracy: 0.9989\n",
            "Epoch 61/120\n",
            "600/600 [==============================] - 16s 26ms/step - loss: 0.0036 - accuracy: 0.9987\n",
            "Epoch 62/120\n",
            "600/600 [==============================] - 15s 25ms/step - loss: 0.0053 - accuracy: 0.9983\n",
            "Epoch 63/120\n",
            "600/600 [==============================] - 15s 26ms/step - loss: 0.0046 - accuracy: 0.9985\n",
            "Epoch 64/120\n",
            "600/600 [==============================] - 15s 25ms/step - loss: 0.0035 - accuracy: 0.9988\n",
            "Epoch 65/120\n",
            "600/600 [==============================] - 16s 26ms/step - loss: 0.0059 - accuracy: 0.9981\n",
            "Epoch 66/120\n",
            "600/600 [==============================] - 15s 25ms/step - loss: 0.0057 - accuracy: 0.9980\n",
            "Epoch 67/120\n",
            "600/600 [==============================] - 15s 25ms/step - loss: 0.0026 - accuracy: 0.9992\n",
            "Epoch 68/120\n",
            "600/600 [==============================] - 15s 25ms/step - loss: 0.0036 - accuracy: 0.9990\n",
            "Epoch 69/120\n",
            "600/600 [==============================] - 15s 26ms/step - loss: 0.0033 - accuracy: 0.9990\n",
            "Epoch 70/120\n",
            "600/600 [==============================] - 16s 26ms/step - loss: 0.0051 - accuracy: 0.9982\n",
            "Epoch 71/120\n",
            "600/600 [==============================] - 15s 25ms/step - loss: 0.0043 - accuracy: 0.9987\n",
            "Epoch 72/120\n",
            "600/600 [==============================] - 16s 26ms/step - loss: 0.0036 - accuracy: 0.9988\n",
            "Epoch 73/120\n",
            "600/600 [==============================] - 15s 25ms/step - loss: 0.0056 - accuracy: 0.9982\n",
            "Epoch 74/120\n",
            "600/600 [==============================] - 15s 25ms/step - loss: 0.0032 - accuracy: 0.9988\n",
            "Epoch 75/120\n",
            "600/600 [==============================] - 15s 25ms/step - loss: 0.0039 - accuracy: 0.9986\n",
            "Epoch 76/120\n",
            "600/600 [==============================] - 16s 26ms/step - loss: 0.0024 - accuracy: 0.9992\n",
            "Epoch 77/120\n",
            "600/600 [==============================] - 15s 25ms/step - loss: 0.0059 - accuracy: 0.9981\n",
            "Epoch 78/120\n",
            "600/600 [==============================] - 15s 25ms/step - loss: 0.0049 - accuracy: 0.9983\n",
            "Epoch 79/120\n",
            "600/600 [==============================] - 15s 25ms/step - loss: 0.0044 - accuracy: 0.9985\n",
            "Epoch 80/120\n",
            "600/600 [==============================] - 16s 27ms/step - loss: 0.0031 - accuracy: 0.9990\n",
            "Epoch 81/120\n",
            "600/600 [==============================] - 16s 26ms/step - loss: 0.0030 - accuracy: 0.9990\n",
            "Epoch 82/120\n",
            "600/600 [==============================] - 15s 25ms/step - loss: 0.0050 - accuracy: 0.9984\n",
            "Epoch 83/120\n",
            "600/600 [==============================] - 15s 25ms/step - loss: 0.0035 - accuracy: 0.9987\n",
            "Epoch 84/120\n",
            "600/600 [==============================] - 16s 26ms/step - loss: 0.0046 - accuracy: 0.9985\n",
            "Epoch 85/120\n",
            "600/600 [==============================] - 15s 25ms/step - loss: 0.0050 - accuracy: 0.9984\n",
            "Epoch 86/120\n",
            "600/600 [==============================] - 15s 25ms/step - loss: 0.0036 - accuracy: 0.9986\n",
            "Epoch 87/120\n",
            "600/600 [==============================] - 16s 26ms/step - loss: 0.0029 - accuracy: 0.9991\n",
            "Epoch 88/120\n",
            "600/600 [==============================] - 15s 25ms/step - loss: 0.0032 - accuracy: 0.9991\n",
            "Epoch 89/120\n",
            "600/600 [==============================] - 15s 25ms/step - loss: 0.0055 - accuracy: 0.9981\n",
            "Epoch 90/120\n",
            "600/600 [==============================] - 15s 25ms/step - loss: 0.0044 - accuracy: 0.9985\n",
            "Epoch 91/120\n",
            "600/600 [==============================] - 17s 28ms/step - loss: 0.0032 - accuracy: 0.9989\n",
            "Epoch 92/120\n",
            "600/600 [==============================] - 15s 25ms/step - loss: 0.0039 - accuracy: 0.9987\n",
            "Epoch 93/120\n",
            "600/600 [==============================] - 15s 25ms/step - loss: 0.0037 - accuracy: 0.9988\n",
            "Epoch 94/120\n",
            "600/600 [==============================] - 15s 25ms/step - loss: 0.0032 - accuracy: 0.9988\n",
            "Epoch 95/120\n",
            "600/600 [==============================] - 16s 26ms/step - loss: 0.0035 - accuracy: 0.9988\n",
            "Epoch 96/120\n",
            "600/600 [==============================] - 15s 25ms/step - loss: 0.0034 - accuracy: 0.9989\n",
            "Epoch 97/120\n",
            "600/600 [==============================] - 15s 25ms/step - loss: 0.0032 - accuracy: 0.9990\n",
            "Epoch 98/120\n",
            "600/600 [==============================] - 15s 25ms/step - loss: 0.0027 - accuracy: 0.9992\n",
            "Epoch 99/120\n",
            "600/600 [==============================] - 16s 26ms/step - loss: 0.0041 - accuracy: 0.9985\n",
            "Epoch 100/120\n",
            "600/600 [==============================] - 16s 26ms/step - loss: 0.0026 - accuracy: 0.9991\n",
            "Epoch 101/120\n",
            "600/600 [==============================] - 16s 27ms/step - loss: 0.0042 - accuracy: 0.9988\n",
            "Epoch 102/120\n",
            "600/600 [==============================] - 15s 26ms/step - loss: 0.0043 - accuracy: 0.9985\n",
            "Epoch 103/120\n",
            "600/600 [==============================] - 15s 25ms/step - loss: 0.0037 - accuracy: 0.9988\n",
            "Epoch 104/120\n",
            "600/600 [==============================] - 15s 25ms/step - loss: 0.0047 - accuracy: 0.9984\n",
            "Epoch 105/120\n",
            "600/600 [==============================] - 14s 24ms/step - loss: 0.0026 - accuracy: 0.9991\n",
            "Epoch 106/120\n",
            "600/600 [==============================] - 15s 24ms/step - loss: 0.0027 - accuracy: 0.9991\n",
            "Epoch 107/120\n",
            "600/600 [==============================] - 15s 26ms/step - loss: 0.0029 - accuracy: 0.9991\n",
            "Epoch 108/120\n",
            "600/600 [==============================] - 15s 25ms/step - loss: 0.0024 - accuracy: 0.9993\n",
            "Epoch 109/120\n",
            "600/600 [==============================] - 15s 25ms/step - loss: 0.0049 - accuracy: 0.9983\n",
            "Epoch 110/120\n",
            "600/600 [==============================] - 16s 27ms/step - loss: 0.0028 - accuracy: 0.9991\n",
            "Epoch 111/120\n",
            "600/600 [==============================] - 16s 27ms/step - loss: 0.0041 - accuracy: 0.9986\n",
            "Epoch 112/120\n",
            "600/600 [==============================] - 15s 25ms/step - loss: 0.0030 - accuracy: 0.9991\n",
            "Epoch 113/120\n",
            "600/600 [==============================] - 16s 26ms/step - loss: 0.0033 - accuracy: 0.9989\n",
            "Epoch 114/120\n",
            "600/600 [==============================] - 16s 26ms/step - loss: 0.0032 - accuracy: 0.9989\n",
            "Epoch 115/120\n",
            "600/600 [==============================] - 16s 26ms/step - loss: 0.0031 - accuracy: 0.9990\n",
            "Epoch 116/120\n",
            "600/600 [==============================] - 15s 25ms/step - loss: 0.0042 - accuracy: 0.9985\n",
            "Epoch 117/120\n",
            "600/600 [==============================] - 16s 27ms/step - loss: 0.0029 - accuracy: 0.9990\n",
            "Epoch 118/120\n",
            "600/600 [==============================] - 15s 25ms/step - loss: 0.0032 - accuracy: 0.9990\n",
            "Epoch 119/120\n",
            "600/600 [==============================] - 15s 25ms/step - loss: 0.0022 - accuracy: 0.9992\n",
            "Epoch 120/120\n",
            "600/600 [==============================] - 15s 24ms/step - loss: 0.0038 - accuracy: 0.9987\n"
          ]
        },
        {
          "output_type": "execute_result",
          "data": {
            "text/plain": [
              "<keras.src.callbacks.History at 0x7cc2ccf7b880>"
            ]
          },
          "metadata": {},
          "execution_count": 30
        }
      ]
    },
    {
      "cell_type": "code",
      "source": [
        "out = trans.evaluate([x_test_ravel,pos_feed_test],y_test)"
      ],
      "metadata": {
        "id": "joTZ7_ZedzSb",
        "colab": {
          "base_uri": "https://localhost:8080/"
        },
        "outputId": "4dc8edeb-c1ea-4ea8-fd7b-37f9f6663738"
      },
      "execution_count": null,
      "outputs": [
        {
          "output_type": "stream",
          "name": "stdout",
          "text": [
            "313/313 [==============================] - 5s 17ms/step - loss: 0.0661 - accuracy: 0.9876\n"
          ]
        }
      ]
    },
    {
      "cell_type": "code",
      "source": [
        "out[1]"
      ],
      "metadata": {
        "id": "ijyq4gdJdzEV",
        "colab": {
          "base_uri": "https://localhost:8080/"
        },
        "outputId": "cc7fb835-106c-4d2d-a436-972370107be7"
      },
      "execution_count": null,
      "outputs": [
        {
          "output_type": "execute_result",
          "data": {
            "text/plain": [
              "0.9876000285148621"
            ]
          },
          "metadata": {},
          "execution_count": 32
        }
      ]
    },
    {
      "cell_type": "code",
      "source": [
        "#Saving the model\n",
        "from tensorflow.keras.models import load_model, save_model\n",
        "save_model(trans, 'transformer_model.h5')"
      ],
      "metadata": {
        "id": "tv-tyW9YUbSL",
        "colab": {
          "base_uri": "https://localhost:8080/"
        },
        "outputId": "c68e2eeb-4e7c-4196-d223-37d597f7fc15"
      },
      "execution_count": null,
      "outputs": [
        {
          "output_type": "stream",
          "name": "stderr",
          "text": [
            "<ipython-input-33-f0c69834302e>:3: UserWarning: You are saving your model as an HDF5 file via `model.save()`. This file format is considered legacy. We recommend using instead the native Keras format, e.g. `model.save('my_model.keras')`.\n",
            "  save_model(trans, 'transformer_model.h5')\n"
          ]
        }
      ]
    },
    {
      "cell_type": "code",
      "source": [
        "#Reusing the stored model to predict\n",
        "custom_objects = {'ClassToken': ClassToken}\n",
        "transformer = load_model('transformer_model.h5', custom_objects=custom_objects)\n",
        "\n",
        "\n",
        "out = transformer.evaluate([x_test_ravel,pos_feed_test],y_test)"
      ],
      "metadata": {
        "id": "iZ1eN1L0VSm3",
        "colab": {
          "base_uri": "https://localhost:8080/"
        },
        "outputId": "5878a187-1041-4c5b-c559-89803ec08405"
      },
      "execution_count": null,
      "outputs": [
        {
          "output_type": "stream",
          "name": "stdout",
          "text": [
            "313/313 [==============================] - 7s 17ms/step - loss: 0.0661 - accuracy: 0.9876\n"
          ]
        }
      ]
    },
    {
      "cell_type": "code",
      "source": [
        "# Misclassification\n",
        "pred_labels = np.argmax(transformer.predict([x_test_ravel,pos_feed_test]),axis = 1)\n",
        "\n",
        "misclassified_sample = np.where(pred_labels != y_test)[0]\n",
        "\n",
        "print('No: of misclassified sample is: ',len(misclassified_sample))"
      ],
      "metadata": {
        "id": "GIhlMEIg6iNe",
        "colab": {
          "base_uri": "https://localhost:8080/"
        },
        "outputId": "b30e678d-071a-41b3-aa67-33a26ca39b7f"
      },
      "execution_count": null,
      "outputs": [
        {
          "output_type": "stream",
          "name": "stdout",
          "text": [
            "313/313 [==============================] - 7s 16ms/step\n",
            "No: of misclassified sample is:  124\n"
          ]
        }
      ]
    },
    {
      "cell_type": "code",
      "source": [
        "# plotting some misclassified samples\n",
        "\n",
        "plt.figure(figsize=(15, 5))\n",
        "for i, idx in enumerate(misclassified_sample[:10]):\n",
        "    plt.subplot(2, 5, i + 1)\n",
        "    plt.imshow(x_test[idx], cmap='gray')\n",
        "    plt.title(f'True label: {y_test[idx]}, Predicted label: {pred_labels[idx]}')\n",
        "plt.tight_layout()\n",
        "plt.show()"
      ],
      "metadata": {
        "id": "PaE561XVO7Fw",
        "colab": {
          "base_uri": "https://localhost:8080/",
          "height": 460
        },
        "outputId": "9d876629-dd16-45e6-9dca-742cf8c01b95"
      },
      "execution_count": null,
      "outputs": [
        {
          "output_type": "display_data",
          "data": {
            "text/plain": [
              "<Figure size 1500x500 with 10 Axes>"
            ],
            "image/png": "[encoded data removed]"
          },
          "metadata": {}
        }
      ]
    },
    {
      "cell_type": "code",
      "source": [],
      "metadata": {
        "id": "2QF_K9_OZDcF"
      },
      "execution_count": null,
      "outputs": []
    }
  ]
}